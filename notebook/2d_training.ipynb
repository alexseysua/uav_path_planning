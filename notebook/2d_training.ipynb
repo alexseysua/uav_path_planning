{
 "cells": [
  {
   "cell_type": "code",
   "execution_count": null,
   "metadata": {},
   "outputs": [],
   "source": [
    "from ray import train, tune\n",
    "from ray.rllib.algorithms.algorithm import Algorithm\n",
    "from ray.rllib.algorithms.callbacks import DefaultCallbacks\n",
    "from ray.rllib.algorithms.sac import SACConfig\n",
    "from ray.tune.registry import register_env\n",
    "\n",
    "from env_2D.uav2d import UAV2D"
   ]
  },
  {
   "cell_type": "code",
   "execution_count": null,
   "metadata": {},
   "outputs": [],
   "source": [
    "def env_creator(config):\n",
    "    return UAV2D(\n",
    "        {\n",
    "            \"grid_size\": 100,\n",
    "            \"num_buildings\": 5,\n",
    "            \"num_dynamic_obstacles\": 3,\n",
    "        }\n",
    "    )\n",
    "\n",
    "\n",
    "register_env(\"uav2d\", env_creator)\n",
    "\n",
    "\n",
    "class CustomCallback(DefaultCallbacks):\n",
    "    def on_train_result(self, *, algorithm: Algorithm, result: dict, **kwargs) -> None:\n",
    "        if algorithm._storage:\n",
    "            algorithm._storage.current_checkpoint_index += 1\n",
    "            result[\"checkpoint_dir_name\"] = algorithm._storage.checkpoint_dir_name\n",
    "            algorithm._storage.current_checkpoint_index -= 1"
   ]
  },
  {
   "cell_type": "code",
   "execution_count": null,
   "metadata": {},
   "outputs": [],
   "source": [
    "config = (\n",
    "    SACConfig()\n",
    "    .framework(\"torch\")\n",
    "    .environment(\"uav2d\")\n",
    "    .training(\n",
    "        lr=1e-5,\n",
    "        train_batch_size=256,\n",
    "        _enable_learner_api=False,\n",
    "    )\n",
    "    .rollouts(num_rollout_workers=5, rollout_fragment_length=\"auto\", batch_mode=\"complete_episodes\")\n",
    "    .resources(num_gpus=0)\n",
    "    .callbacks(CustomCallback)\n",
    "    .debugging(log_level=\"ERROR\")\n",
    "    .rl_module(_enable_rl_module_api=False)\n",
    ")"
   ]
  },
  {
   "cell_type": "code",
   "execution_count": null,
   "metadata": {},
   "outputs": [],
   "source": [
    "tuner = tune.Tuner(\n",
    "    \"SAC\",\n",
    "    param_space=config.to_dict(),\n",
    "    run_config=train.RunConfig(\n",
    "        \"UAV2D_SAC\",\n",
    "        checkpoint_config=train.CheckpointConfig(\n",
    "            num_to_keep=20,\n",
    "            checkpoint_score_attribute=\"episode_reward_mean\",\n",
    "            checkpoint_at_end=True,\n",
    "            checkpoint_frequency=1000,\n",
    "        ),\n",
    "        stop={\"timesteps_total\": 1e6},\n",
    "    ),\n",
    ")"
   ]
  },
  {
   "cell_type": "code",
   "execution_count": null,
   "metadata": {},
   "outputs": [],
   "source": [
    "results = tuner.fit()"
   ]
  }
 ],
 "metadata": {
  "kernelspec": {
   "display_name": "carla",
   "language": "python",
   "name": "python3"
  },
  "language_info": {
   "name": "python",
   "version": "3.8.16"
  }
 },
 "nbformat": 4,
 "nbformat_minor": 2
}
