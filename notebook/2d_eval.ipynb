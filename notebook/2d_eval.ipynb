{
 "cells": [
  {
   "cell_type": "code",
   "execution_count": null,
   "metadata": {},
   "outputs": [],
   "source": [
    "from ray.rllib.policy import Policy\n",
    "from ray import train\n",
    "from env_2D.uav2d import UAV2D"
   ]
  },
  {
   "cell_type": "code",
   "execution_count": null,
   "metadata": {},
   "outputs": [],
   "source": [
    "path = \"path_to_your_experiment\"\n",
    "result = train.Result.from_path(path)\n",
    "ckpt = result.get_best_checkpoint(\"episode_reward_mean\", \"max\")"
   ]
  },
  {
   "cell_type": "code",
   "execution_count": null,
   "metadata": {},
   "outputs": [],
   "source": [
    "policies = Policy.from_checkpoint(ckpt)\n",
    "policy = policies[\"default_policy\"]"
   ]
  },
  {
   "cell_type": "code",
   "execution_count": null,
   "metadata": {},
   "outputs": [],
   "source": [
    "env = UAV2D()\n",
    "for _ in range(20):\n",
    "    obs, info = env.reset()\n",
    "    state = policy.get_initial_state()\n",
    "    terminated = truncated = False\n",
    "    while not terminated and not truncated:\n",
    "        action, state, _ = policy.compute_single_action(obs, state, explore=True)\n",
    "        obs, reward, terminated, truncated, info = env.step(action)\n",
    "    env.visualize()\n",
    "    env.analyze()"
   ]
  }
 ],
 "metadata": {
  "kernelspec": {
   "display_name": "carla",
   "language": "python",
   "name": "python3"
  },
  "language_info": {
   "name": "python",
   "version": "3.8.16"
  }
 },
 "nbformat": 4,
 "nbformat_minor": 2
}
